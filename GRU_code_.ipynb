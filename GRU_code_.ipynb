{
  "nbformat": 4,
  "nbformat_minor": 0,
  "metadata": {
    "colab": {
      "provenance": []
    },
    "kernelspec": {
      "name": "python3",
      "display_name": "Python 3"
    },
    "language_info": {
      "name": "python"
    }
  },
  "cells": [
    {
      "cell_type": "code",
      "execution_count": null,
      "metadata": {
        "id": "HmVSsyyMsShV"
      },
      "outputs": [],
      "source": [
        "from google.colab import drive\n",
        "drive.mount('/content/drive', force_remount=True)"
      ]
    },
    {
      "cell_type": "code",
      "source": [
        "import numpy as np\n",
        "import pandas as pd"
      ],
      "metadata": {
        "id": "3dc69991s5Zb"
      },
      "execution_count": 1,
      "outputs": []
    },
    {
      "cell_type": "code",
      "source": [
        "file_path = '/content/drive/My Drive/output.csv'\n",
        "df = pd.read_csv(file_path)\n",
        "df.head()"
      ],
      "metadata": {
        "id": "aU-YuehPshcX"
      },
      "execution_count": null,
      "outputs": []
    },
    {
      "cell_type": "code",
      "source": [
        "from sklearn.model_selection import train_test_split\n",
        "from sklearn.preprocessing import MinMaxScaler\n",
        "from tensorflow.keras.models import Sequential\n",
        "from tensorflow.keras.layers import GRU, Dense\n",
        "import tensorflow as tf"
      ],
      "metadata": {
        "id": "daA-zOGotKyt"
      },
      "execution_count": null,
      "outputs": []
    },
    {
      "cell_type": "code",
      "source": [
        "#extracting features\n",
        "features = ['avg_transaction_value', 'token_transfers_count', 'gas_used', 'transaction_count']\n",
        "X = df[features].values\n",
        "y = df['avg_gas_price'].values"
      ],
      "metadata": {
        "id": "iBnukl-gtgAC"
      },
      "execution_count": null,
      "outputs": []
    },
    {
      "cell_type": "code",
      "source": [
        "#normalizing data\n",
        "scaler = MinMaxScaler()\n",
        "X_scaled = scaler.fit_transform(X)\n",
        "y_scaled = scaler.fit_transform(y.reshape(-1, 1))\n",
        "\n",
        "# splitting the data into test, train and eval\n",
        "X_train, X_test, y_train, y_test = train_test_split(X_scaled, y_scaled, test_size=0.2, shuffle=False)\n",
        "X_train, X_val, y_train, y_val = train_test_split(X_train, y_train, test_size=0.2, shuffle=False)\n",
        "\n",
        "# reshaping input data\n",
        "X_train = X_train.reshape((X_train.shape[0], 1, X_train.shape[1]))\n",
        "X_test = X_test.reshape((X_test.shape[0], 1, X_test.shape[1]))\n",
        "X_val = X_val.reshape((X_val.shape[0], 1, X_val.shape[1]))"
      ],
      "metadata": {
        "id": "MsU_ai8et2nn"
      },
      "execution_count": null,
      "outputs": []
    },
    {
      "cell_type": "code",
      "source": [
        "def custom_mse_loss(y_true, y_pred):\n",
        "    squared_difference = tf.square(y_true - y_pred)\n",
        "    penalty = tf.square(tf.nn.relu(-y_pred))\n",
        "    total_loss = tf.reduce_mean(squared_difference + penalty)\n",
        "\n",
        "    return total_loss\n",
        "\n",
        "# building gru model\n",
        "model = Sequential()\n",
        "model.add(GRU(50, activation='relu', input_shape=(X_train.shape[1], X_train.shape[2])))\n",
        "model.add(Dense(1))\n",
        "model.compile(optimizer='adam', loss=custom_mse_loss)\n",
        "\n",
        "# training model\n",
        "model.fit(X_train, y_train, validation_data=(X_val, y_val), epochs=100, batch_size=32)"
      ],
      "metadata": {
        "id": "mmvke2mdtc98"
      },
      "execution_count": null,
      "outputs": []
    },
    {
      "cell_type": "code",
      "source": [
        "y_pred = model.predict(X_test)"
      ],
      "metadata": {
        "id": "ZWD6U_pj4dw5"
      },
      "execution_count": null,
      "outputs": []
    },
    {
      "cell_type": "code",
      "source": [
        "# evaluation metrics\n",
        "loss = model.evaluate(X_test, y_test)\n",
        "print('Custom Loss:', loss)\n",
        "\n",
        "from sklearn.metrics import mean_squared_error\n",
        "mse = mean_squared_error(y_test, y_pred)\n",
        "print('Mean Squared Error:', mse)\n",
        "\n",
        "rmse = mean_squared_error(y_test, y_pred, squared=False)\n",
        "print('Root Mean Squared Error:', rmse)\n",
        "\n",
        "from sklearn.metrics import mean_absolute_error\n",
        "mae = mean_absolute_error(y_test, y_pred)\n",
        "print('Mean Absolute Error:', mae)"
      ],
      "metadata": {
        "colab": {
          "base_uri": "https://localhost:8080/"
        },
        "id": "2tI3YWBMuCaV",
        "outputId": "c0b9e6fe-c049-494a-e90e-742d4e226c04"
      },
      "execution_count": null,
      "outputs": [
        {
          "output_type": "stream",
          "name": "stdout",
          "text": [
            "55/55 [==============================] - 0s 2ms/step - loss: 0.0075\n",
            "Custom Loss: 0.007454897742718458\n",
            "Mean Squared Error: 0.007454217990015399\n",
            "Root Mean Squared Error: 0.08633781321075604\n",
            "Mean Absolute Error: 0.059882289209228445\n",
            "R2 Score: -0.1685171733439299\n"
          ]
        }
      ]
    },
    {
      "cell_type": "code",
      "source": [
        "import matplotlib.pyplot as plt\n",
        "import seaborn as sns\n",
        "\n",
        "# predicted gas prices\n",
        "y_pred = model.predict(X_test)\n",
        "\n",
        "y_test_actual = scaler.inverse_transform(y_test.reshape(-1, 1)).ravel()\n",
        "y_pred_actual = scaler.inverse_transform(y_pred).ravel()\n",
        "\n",
        "# plotting aactual vs. predicted\n",
        "plt.figure(figsize=(10, 6))\n",
        "plt.plot(y_test_actual, label='Actual')\n",
        "plt.plot(y_pred_actual, label='Predicted')\n",
        "plt.xlabel('Time')\n",
        "plt.ylabel('Gas Price')\n",
        "plt.title('Actual vs. Predicted Gas Prices')\n",
        "plt.legend()\n",
        "plt.show()\n",
        "\n",
        "# residuals plot\n",
        "residuals = y_test_actual - y_pred_actual\n",
        "plt.figure(figsize=(10, 6))\n",
        "plt.plot(residuals)\n",
        "plt.axhline(y=0, color='r', linestyle='--')\n",
        "plt.xlabel('Time')\n",
        "plt.ylabel('Residuals')\n",
        "plt.title('Residuals Plot')\n",
        "plt.show()\n",
        "\n",
        "# density plot of residuals\n",
        "plt.figure(figsize=(10, 6))\n",
        "sns.histplot(residuals, kde=True)\n",
        "plt.xlabel('Residuals')\n",
        "plt.ylabel('Density')\n",
        "plt.title('Density Plot of Residuals')\n",
        "plt.show()\n"
      ],
      "metadata": {
        "id": "wRLxXSHzvZ3W"
      },
      "execution_count": null,
      "outputs": []
    }
  ]
}