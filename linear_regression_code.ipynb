{
  "nbformat": 4,
  "nbformat_minor": 0,
  "metadata": {
    "colab": {
      "provenance": []
    },
    "kernelspec": {
      "name": "python3",
      "display_name": "Python 3"
    },
    "language_info": {
      "name": "python"
    }
  },
  "cells": [
    {
      "cell_type": "code",
      "execution_count": null,
      "metadata": {
        "id": "HmVSsyyMsShV"
      },
      "outputs": [],
      "source": [
        "from google.colab import drive\n",
        "drive.mount('/content/drive', force_remount=True)"
      ]
    },
    {
      "cell_type": "code",
      "source": [
        "import numpy as np\n",
        "import pandas as pd"
      ],
      "metadata": {
        "id": "3dc69991s5Zb"
      },
      "execution_count": null,
      "outputs": []
    },
    {
      "cell_type": "code",
      "source": [
        "file_path = '/content/drive/My Drive/ECE473: FINAL PROJECT/output.csv'\n",
        "df = pd.read_csv(file_path)\n",
        "df.head()"
      ],
      "metadata": {
        "id": "ctIdmhbpsd50"
      },
      "execution_count": null,
      "outputs": []
    },
    {
      "cell_type": "code",
      "source": [
        "from sklearn.model_selection import train_test_split\n",
        "from sklearn.preprocessing import MinMaxScaler\n",
        "from sklearn.linear_model import LinearRegression\n",
        "import tensorflow as tf"
      ],
      "metadata": {
        "id": "daA-zOGotKyt"
      },
      "execution_count": null,
      "outputs": []
    },
    {
      "cell_type": "code",
      "source": [
        "#extracting features\n",
        "features = ['avg_transaction_value', 'token_transfers_count', 'gas_used', 'transaction_count']\n",
        "X = df[features].values\n",
        "y = df['avg_gas_price'].values"
      ],
      "metadata": {
        "id": "iBnukl-gtgAC"
      },
      "execution_count": null,
      "outputs": []
    },
    {
      "cell_type": "code",
      "source": [
        "#normalize data\n",
        "scaler = MinMaxScaler()\n",
        "X_scaled = scaler.fit_transform(X)\n",
        "y_scaled = scaler.fit_transform(y.reshape(-1, 1))\n",
        "\n",
        "# Split the data into test, train and eval\n",
        "X_train, X_test, y_train, y_test = train_test_split(X_scaled, y_scaled, test_size=0.2, shuffle=False)"
      ],
      "metadata": {
        "id": "MsU_ai8et2nn"
      },
      "execution_count": null,
      "outputs": []
    },
    {
      "cell_type": "code",
      "source": [
        "#custom loss function that penalizes sub-zero predictions\n",
        "def custom_mse_loss(y_true, y_pred):\n",
        "    squared_difference = tf.square(y_true - y_pred)\n",
        "    penalty = tf.square(tf.nn.relu(-y_pred))\n",
        "\n",
        "    # adding penalty to loss\n",
        "    total_loss = tf.reduce_mean(squared_difference + penalty)\n",
        "\n",
        "    return total_loss\n",
        "\n",
        "model = LinearRegression()\n",
        "model.fit(X_train, y_train)"
      ],
      "metadata": {
        "id": "mmvke2mdtc98"
      },
      "execution_count": null,
      "outputs": []
    },
    {
      "cell_type": "code",
      "source": [
        "y_pred = model.predict(X_test)"
      ],
      "metadata": {
        "id": "ZWD6U_pj4dw5"
      },
      "execution_count": null,
      "outputs": []
    },
    {
      "cell_type": "code",
      "source": [
        "# evaluation scores\n",
        "\n",
        "from sklearn.metrics import mean_squared_error\n",
        "mse = mean_squared_error(y_test, y_pred)\n",
        "print('Mean Squared Error:', mse)\n",
        "\n",
        "rmse = mean_squared_error(y_test, y_pred, squared=False)\n",
        "print('Root Mean Squared Error:', rmse)\n",
        "\n",
        "from sklearn.metrics import mean_absolute_error\n",
        "mae = mean_absolute_error(y_test, y_pred)\n",
        "print('Mean Absolute Error:', mae)\n"
      ],
      "metadata": {
        "id": "2tI3YWBMuCaV"
      },
      "execution_count": null,
      "outputs": []
    },
    {
      "cell_type": "code",
      "source": [
        "import matplotlib.pyplot as plt\n",
        "import seaborn as sns\n",
        "\n",
        "# predicted gas prices\n",
        "y_pred = model.predict(X_test)\n",
        "\n",
        "# inverse transofrm for actual values\n",
        "y_test_actual = scaler.inverse_transform(y_test.reshape(-1, 1)).ravel()\n",
        "y_pred_actual = scaler.inverse_transform(y_pred).ravel()\n",
        "\n",
        "#plotting\n",
        "plt.figure(figsize=(10, 6))\n",
        "plt.plot(y_test_actual, label='Actual')\n",
        "plt.plot(y_pred_actual, label='Predicted')\n",
        "plt.xlabel('Time')\n",
        "plt.ylabel('Gas Price')\n",
        "plt.title('Actual vs. Predicted Gas Prices')\n",
        "plt.legend()\n",
        "plt.show()\n",
        "\n",
        "# residuals plot\n",
        "residuals = y_test_actual - y_pred_actual\n",
        "plt.figure(figsize=(10, 6))\n",
        "plt.plot(residuals)\n",
        "plt.axhline(y=0, color='r', linestyle='--')\n",
        "plt.xlabel('Time')\n",
        "plt.ylabel('Residuals')\n",
        "plt.title('Residuals Plot')\n",
        "plt.show()\n",
        "\n",
        "# density plot of residuals\n",
        "plt.figure(figsize=(10, 6))\n",
        "sns.histplot(residuals, kde=True)\n",
        "plt.xlabel('Residuals')\n",
        "plt.ylabel('Density')\n",
        "plt.title('Density Plot of Residuals')\n",
        "plt.show()\n"
      ],
      "metadata": {
        "id": "wRLxXSHzvZ3W"
      },
      "execution_count": null,
      "outputs": []
    }
  ]
}