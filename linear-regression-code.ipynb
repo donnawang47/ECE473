{
  "cells": [
    {
      "cell_type": "code",
      "execution_count": null,
      "metadata": {
        "id": "HmVSsyyMsShV"
      },
      "outputs": [],
      "source": [
        "from google.colab import drive\n",
        "drive.mount('/content/drive', force_remount=True)"
      ]
    },
    {
      "cell_type": "code",
      "execution_count": null,
      "metadata": {
        "id": "3dc69991s5Zb"
      },
      "outputs": [],
      "source": [
        "import numpy as np\n",
        "import pandas as pd"
      ]
    },
    {
      "cell_type": "code",
      "execution_count": null,
      "metadata": {
        "id": "ctIdmhbpsd50"
      },
      "outputs": [],
      "source": [
        "file_path = '/content/drive/My Drive/output.csv'\n",
        "df = pd.read_csv(file_path)\n",
        "df.head()"
      ]
    },
    {
      "cell_type": "code",
      "execution_count": null,
      "metadata": {
        "id": "daA-zOGotKyt"
      },
      "outputs": [],
      "source": [
        "from sklearn.model_selection import train_test_split\n",
        "from sklearn.preprocessing import MinMaxScaler\n",
        "from sklearn.linear_model import LinearRegression\n",
        "import tensorflow as tf"
      ]
    },
    {
      "cell_type": "code",
      "execution_count": null,
      "metadata": {
        "id": "iBnukl-gtgAC"
      },
      "outputs": [],
      "source": [
        "#extracting features\n",
        "features = ['avg_transaction_value', 'token_transfers_count', 'gas_used', 'transaction_count']\n",
        "X = df[features].values\n",
        "y = df['avg_gas_price'].values"
      ]
    },
    {
      "cell_type": "code",
      "execution_count": null,
      "metadata": {
        "id": "MsU_ai8et2nn"
      },
      "outputs": [],
      "source": [
        "#normalizing\n",
        "scaler = MinMaxScaler()\n",
        "X_scaled = scaler.fit_transform(X)\n",
        "y_scaled = scaler.fit_transform(y.reshape(-1, 1))\n",
        "\n",
        "#splitting the data into train and test\n",
        "X_train, X_test, y_train, y_test = train_test_split(X_scaled, y_scaled, test_size=0.2, shuffle=False)"
      ]
    },
    {
      "cell_type": "code",
      "execution_count": null,
      "metadata": {
        "id": "mmvke2mdtc98"
      },
      "outputs": [],
      "source": [
        "#custom loss function that penalizes sub-zero predictions\n",
        "def custom_mse_loss(y_true, y_pred):\n",
        "    squared_difference = tf.square(y_true - y_pred)\n",
        "    penalty = tf.square(tf.nn.relu(-y_pred))\n",
        "\n",
        "    # adding penalty to loss\n",
        "    total_loss = tf.reduce_mean(squared_difference + penalty)\n",
        "\n",
        "    return total_loss\n",
        "\n",
        "model = LinearRegression()\n",
        "model.fit(X_train, y_train)"
      ]
    },
    {
      "cell_type": "code",
      "execution_count": null,
      "metadata": {
        "id": "ZWD6U_pj4dw5"
      },
      "outputs": [],
      "source": [
        "y_pred = model.predict(X_test)"
      ]
    },
    {
      "cell_type": "code",
      "execution_count": null,
      "metadata": {
        "id": "2tI3YWBMuCaV"
      },
      "outputs": [],
      "source": [
        "# evaluation metrics\n",
        "from sklearn.metrics import mean_squared_error\n",
        "mse = mean_squared_error(y_test, y_pred)\n",
        "print('Mean Squared Error:', mse)\n",
        "\n",
        "rmse = mean_squared_error(y_test, y_pred, squared=False)\n",
        "print('Root Mean Squared Error:', rmse)\n",
        "\n",
        "from sklearn.metrics import mean_absolute_error\n",
        "mae = mean_absolute_error(y_test, y_pred)\n",
        "print('Mean Absolute Error:', mae)\n"
      ]
    },
    {
      "cell_type": "code",
      "execution_count": null,
      "metadata": {
        "id": "wRLxXSHzvZ3W"
      },
      "outputs": [],
      "source": [
        "import matplotlib.pyplot as plt\n",
        "import seaborn as sns\n",
        "\n",
        "# predicted gas prices\n",
        "y_pred = model.predict(X_test)\n",
        "\n",
        "# inverse transofrm for actual values\n",
        "y_test_actual = scaler.inverse_transform(y_test.reshape(-1, 1)).ravel()\n",
        "y_pred_actual = scaler.inverse_transform(y_pred).ravel()\n",
        "\n",
        "#plotting actual vs. predicted\n",
        "plt.figure(figsize=(10, 6))\n",
        "plt.plot(y_test_actual, label='Actual')\n",
        "plt.plot(y_pred_actual, label='Predicted')\n",
        "plt.xlabel('Time')\n",
        "plt.ylabel('Gas Price')\n",
        "plt.title('Actual vs. Predicted Gas Prices')\n",
        "plt.legend()\n",
        "plt.show()\n",
        "\n",
        "# residuals plot\n",
        "residuals = y_test_actual - y_pred_actual\n",
        "plt.figure(figsize=(10, 6))\n",
        "plt.plot(residuals)\n",
        "plt.axhline(y=0, color='r', linestyle='--')\n",
        "plt.xlabel('Time')\n",
        "plt.ylabel('Residuals')\n",
        "plt.title('Residuals Plot')\n",
        "plt.show()\n",
        "\n",
        "# density plot of residuals\n",
        "plt.figure(figsize=(10, 6))\n",
        "sns.histplot(residuals, kde=True)\n",
        "plt.xlabel('Residuals')\n",
        "plt.ylabel('Density')\n",
        "plt.title('Density Plot of Residuals')\n",
        "plt.show()\n"
      ]
    }
  ],
  "metadata": {
    "colab": {
      "provenance": []
    },
    "kernelspec": {
      "display_name": "Python 3",
      "name": "python3"
    },
    "language_info": {
      "name": "python"
    }
  },
  "nbformat": 4,
  "nbformat_minor": 0
}
